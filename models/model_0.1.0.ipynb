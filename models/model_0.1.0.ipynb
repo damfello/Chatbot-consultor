{
 "cells": [
  {
   "cell_type": "markdown",
   "metadata": {},
   "source": [
    "Model_0.1.0\n",
    "Consultor Agent specilized in Medical Devices Regulations\n",
    "\n"
   ]
  },
  {
   "cell_type": "code",
   "execution_count": null,
   "metadata": {},
   "outputs": [],
   "source": [
    "import requests\n",
    "import PyPDF2\n",
    "import re\n",
    "from PyPDF2 import PdfReader\n",
    "import os\n",
    "import requests\n",
    "import chromadb\n",
    "import google.generativeai as genai\n",
    "import dotenv\n",
    "from dotenv import load_dotenv\n",
    "import chromadb.utils.embedding_functions as embedding_functions"
   ]
  },
  {
   "cell_type": "code",
   "execution_count": 9,
   "metadata": {},
   "outputs": [],
   "source": [
    "## Configure Gemini and API KEY\n",
    "\n",
    "key_path = r\"C:\\Users\\albfr\\Desktop\\BeQu\\API Key\\gemini_api_key1.env\"\n",
    "load_dotenv(key_path)\n",
    "\n",
    "# Accede a la API key\n",
    "api_key_1 = os.getenv(\"gemini_api_key1\")"
   ]
  },
  {
   "cell_type": "code",
   "execution_count": 10,
   "metadata": {},
   "outputs": [
    {
     "name": "stdout",
     "output_type": "stream",
     "text": [
      "models/gemini-1.0-pro-latest\n",
      "models/gemini-1.0-pro\n",
      "models/gemini-pro\n",
      "models/gemini-1.0-pro-001\n",
      "models/gemini-1.0-pro-vision-latest\n",
      "models/gemini-pro-vision\n",
      "models/gemini-1.5-pro-latest\n",
      "models/gemini-1.5-pro-001\n",
      "models/gemini-1.5-pro-002\n",
      "models/gemini-1.5-pro\n",
      "models/gemini-1.5-pro-exp-0801\n",
      "models/gemini-1.5-pro-exp-0827\n",
      "models/gemini-1.5-flash-latest\n",
      "models/gemini-1.5-flash-001\n",
      "models/gemini-1.5-flash-001-tuning\n",
      "models/gemini-1.5-flash\n",
      "models/gemini-1.5-flash-exp-0827\n",
      "models/gemini-1.5-flash-002\n",
      "models/gemini-1.5-flash-8b\n",
      "models/gemini-1.5-flash-8b-001\n",
      "models/gemini-1.5-flash-8b-latest\n",
      "models/gemini-1.5-flash-8b-exp-0827\n",
      "models/gemini-1.5-flash-8b-exp-0924\n",
      "models/gemini-2.0-flash-exp\n",
      "models/gemini-exp-1206\n",
      "models/gemini-exp-1121\n",
      "models/gemini-exp-1114\n",
      "models/learnlm-1.5-pro-experimental\n"
     ]
    }
   ],
   "source": [
    "## Checking Gemini Configuration API\n",
    "\n",
    "genai.configure(api_key= os.getenv(\"gemini_api_key1\"))\n",
    "\n",
    "for m in genai.list_models():\n",
    "  if \"generateContent\" in m.supported_generation_methods:\n",
    "    print(m.name)"
   ]
  },
  {
   "cell_type": "code",
   "execution_count": 12,
   "metadata": {},
   "outputs": [
    {
     "data": {
      "text/plain": [
       "119413"
      ]
     },
     "execution_count": 12,
     "metadata": {},
     "output_type": "execute_result"
    }
   ],
   "source": [
    "### Function: Exttraction text from the .pdf\n",
    "\n",
    "file_path=r\"C:\\Users\\albfr\\Desktop\\BeQu\\data\\medicalstandard.pdf\"\n",
    "\n",
    "def load_pdf(file_path):\n",
    "  pdf_reader = PdfReader(file_path)\n",
    "  text = \"\"\n",
    "  \n",
    "  for page in pdf_reader.pages:\n",
    "    text += page.extract_text()\n",
    "  return text\n",
    "\n",
    "\n",
    "### Checking the .pdf\n",
    "\n",
    "\n",
    "pdf_text = load_pdf(file_path)\n",
    "\n",
    "# pdf_text\n",
    "pdf_text[:1500]\n",
    "\n",
    "len(pdf_text)\n",
    "\n"
   ]
  },
  {
   "cell_type": "code",
   "execution_count": 13,
   "metadata": {},
   "outputs": [],
   "source": [
    "# Function to Split Text into smallers Chuncks\n",
    "\n",
    "## Setup Max Chunck Lenght and the Chunck Overlap\n",
    "\n",
    "\n",
    "def pdf_text_splitter(text, max_length=1000, chunk_overlap=0):\n",
    "  text = re.sub(r'\\.\\.\\.', '', text) # Remove ellipsis (...)\n",
    "  chunks = []\n",
    "  start = 0 \n",
    "  text_length = len(text) # calculate the whole text lenght\n",
    "  while start < text_length: # keep moving till the end of the full text\n",
    "    end = start + max_length\n",
    "    if end < text_length : # When we are not at the end of text\n",
    "      end = text.rfind(' ', start, end) + 1 # For not cutting words at the middle. Ending chunck between spaces\n",
    "\n",
    "      if end <= start: # When there is no space, split at the max length\n",
    "        end = start + max_length\n",
    "\n",
    "    chunk = text[start:end].strip() # Take text from Stat till End, and remove spaces in between\n",
    "\n",
    "    if chunk:\n",
    "      chunks.append(chunk) # When finding a Chucnk, adding to chuncks = []\n",
    "\n",
    "    start = end - chunk_overlap  # moving start position forward minus any overlaps\n",
    "\n",
    "    if start >= text_length: # When reaching out the end of the text\n",
    "      break\n",
    "  return chunks"
   ]
  },
  {
   "cell_type": "code",
   "execution_count": 14,
   "metadata": {},
   "outputs": [
    {
     "data": {
      "text/plain": [
       "'© ISO 2016Medical devices  — Quality \\nmanagement systems — \\nRequirements for regulatory purposes\\nDispositifs médicaux  — Systèmes de management de la qualité — \\nExigences à des fins réglementairesINTERNATIONAL \\nSTANDARDISO\\n13485\\nThird edition\\n2016-03-01\\nReference number\\nISO 13485:2016(E)\\n ISO 13485:2016(E)\\n \\nii © ISO 2016 – All rights reservedCOPYRIGHT PROTECTED DOCUMENT\\n©  ISO 2016, Published in Switzerland\\nAll rights reserved. Unless otherwise specified, no part of this publication may be reproduced or utilized otherwise in any form \\nor by any means, electronic or mechanical, including photocopying, or posting on the internet or an intranet, without prior \\nwritten permission. Permission can be requested from either ISO at the address below or ISO’s member body in the country of \\nthe requester.\\nISO copyright office\\nCh. de Blandonnet 8 • CP 401\\nCH-1214 Vernier, Geneva, Switzerland\\nTel. +41 22 749 01 11\\nFax +41 22 749 09 47\\ncopyright@iso.org\\nwww.iso.org\\n ISO 13485:2016(E)\\n \\nForeword   v\\nIntroduction  .. vi\\n1 Scope   1\\n2 Normative references  .. 1\\n3\\t Terms \\tand\\tdefinitions  . 1\\n4 Quality management system  .. 6\\n4.1 General requirements  .. 6\\n4.2 Documentation requirements . 7\\n4.2.1  General .. 7\\n4.2.2  Quality manual   7\\n4.2.3  Medical device file  . 7\\n4.2.4  Control of documents  .. 8\\n4.2.5  Control of records  .. 8\\n5 Management responsibility  . 9\\n5.1 Management commitment   9\\n5.2 Customer focus   9\\n5.3 Quality policy  .. 9\\n5.4 Planning  .. 9\\n5.4.1  Quality objectives   9\\n5.4.2  Quality management system planning   9\\n5.5 Responsibility, authority and communication  . 10\\n5.5.1  Responsibility and authority   10\\n5.5.2  Management representative  . 10\\n5.5.3  Internal communication  .. 10\\n5.6 Management review   10\\n5.6.1  General .. 10\\n5.6.2  Review input   10\\n5.6.3  Review output  .. 11\\n6 Resource management  .. 11\\n6.1 Provision of resources  . 11\\n6.2 Human resources  . 11\\n6.3 Infrastructure  . 12\\n6.4 Work environment and contamination control  . 12\\n6.4.1  Work'"
      ]
     },
     "execution_count": 14,
     "metadata": {},
     "output_type": "execute_result"
    }
   ],
   "source": [
    "chunks = pdf_text_splitter(pdf_text, max_length=2000, chunk_overlap=200)\n",
    "\n",
    "# Checking Chunks\n",
    "\n",
    "\n",
    "len(chunks)\n",
    "\n",
    "chunks[0]"
   ]
  },
  {
   "cell_type": "code",
   "execution_count": 15,
   "metadata": {},
   "outputs": [],
   "source": [
    "## Embedding Chucnks in ChromaDB\n",
    "\n",
    "google_ef  = embedding_functions.GoogleGenerativeAiEmbeddingFunction(api_key= os.getenv(\"gemini_api_key1\"))\n",
    "client = chromadb.PersistentClient(path=\"embeddings/gemini\")\n",
    "\n",
    "\n",
    "collection = client.get_or_create_collection(name=\"pdf_rag\", embedding_function=google_ef)\n",
    "\n",
    "\n",
    "\n",
    "for i, d in enumerate(chunks):\n",
    "  collection.add(documents=[d], ids=[str(i)])\n",
    "\n",
    "\n",
    "\n",
    "\n"
   ]
  },
  {
   "cell_type": "code",
   "execution_count": 16,
   "metadata": {},
   "outputs": [
    {
     "data": {
      "text/plain": [
       "60"
      ]
     },
     "execution_count": 16,
     "metadata": {},
     "output_type": "execute_result"
    }
   ],
   "source": [
    "collection.count()"
   ]
  },
  {
   "cell_type": "code",
   "execution_count": 17,
   "metadata": {},
   "outputs": [],
   "source": [
    "# Function for Context and Recover Context\n",
    "\n",
    "def recover_context(context):\n",
    "  recovered_context = \"\"\n",
    "  for item in context:\n",
    "    recovered_context += item + \"\\n\\n\"  ## To aggregate the results in one big answer\n",
    "  return recovered_context\n",
    "\n",
    "def text_relevant_in_context(query, db, n_results=3):\n",
    "  results = db.query(query_texts=[query], n_results=n_results)\n",
    "  recovered_context = recover_context(results['documents'][0])\n",
    "  return recovered_context"
   ]
  },
  {
   "cell_type": "code",
   "execution_count": 39,
   "metadata": {},
   "outputs": [],
   "source": [
    "context = text_relevant_in_context(\"How to develop a design validation for medical devices\", collection )\n",
    "\n",
    "\n",
    "# len(context)"
   ]
  },
  {
   "cell_type": "code",
   "execution_count": 34,
   "metadata": {},
   "outputs": [
    {
     "name": "stdout",
     "output_type": "stream",
     "text": [
      "ication or intended use.\n",
      "The organization shall document validation plans that include methods, acceptance criteria and, as \n",
      "appropriate, statistical techniques with rationale for sample size. \n",
      "© ISO 2016 – All rights reserved  15\n",
      " ISO 13485:2016(E)\n",
      "Design validation shall be conducted on representative product. Representative product includes \n",
      "initial production units, batches or their equivalents. The rationale for the choice of product used for \n",
      "validation shall be recorded (see 4.2.5 ).\n",
      "As part of design and development validation, the organization shall perform clinical evaluations or \n",
      "performance evaluations of the medical device in accordance with applicable regulatory requirements. \n",
      "A medical device used for clinical evaluation or performance evaluation is not considered to be released \n",
      "for use to the customer.\n",
      "If the intended use requires that the medical device be connected to, or have an interface with, other \n",
      "medical device(s), validation shall include confirmation that the requirements for the specified \n",
      "application or intended use have been met when so connected or interfaced.\n",
      "Validation shall be completed prior to release for use of the product to the customer.\n",
      "Records of the results and conclusion of validation and necessary actions shall be maintained (see 4.2.4  \n",
      "and 4.2.5 ).\n",
      "7.3.8  Design and development transfer\n",
      "The organization shall document procedures for transfer of design and development outputs to \n",
      "manufacturing. These procedures shall ensure that design and development outputs are verified \n",
      "as suitable for manufacturing before becoming final production specifications and that production \n",
      "capability can meet product requirements.\n",
      "Results and conclusions of the transfer shall be recorded (see 4.2.5 ).\n",
      "7.3.9  Control of design and development changes\n",
      "The organization shall document procedures to control design and development changes. The \n",
      "organization shall determine the significance of the change to function, performance, usability, safety\n",
      "\n",
      "elopment outputs shall be maintained (see 4.2.5 ).\n",
      "7.3.5  Design and development review\n",
      "At suitable stages, systematic reviews of design and development shall be performed in accordance \n",
      "with planned and documented arrangements to:\n",
      "a) evaluate the ability of the results of design and development to meet requirements;\n",
      "b) identify and propose necessary actions.\n",
      "Participants in such reviews shall include representatives of functions concerned with the design and \n",
      "development stage being reviewed, as well as other specialist personnel.\n",
      "Records of the results of the reviews and any necessary actions shall be maintained and include the \n",
      "identification of the design under review, the participants involved and the date of the review (see 4.2.5 ).\n",
      "7.3.6\t Design \tand\tdevelopment \tverification\n",
      "Design and development verification shall be performed in accordance with planned and documented \n",
      "arrangements to ensure that the design and development outputs have met the design and development \n",
      "input requirements.\n",
      "The organization shall document verification plans that include methods, acceptance criteria and, as \n",
      "appropriate, statistical techniques with rationale for sample size.\n",
      "If the intended use requires that the medical device be connected to, or have an interface with, other \n",
      "medical device(s), verification shall include confirmation that the design outputs meet design inputs \n",
      "when so connected or interfaced.\n",
      "Records of the results and conclusions of the verification and necessary actions shall be maintained \n",
      "(see 4.2.4  and 4.2.5 ).\n",
      "7.3.7  Design and development validation\n",
      "Design and development validation shall be performed in accordance with planned and documented \n",
      "arrangements to ensure that the resulting product is capable of meeting the requirements for the \n",
      "specified application or intended use.\n",
      "The organization shall document validation plans that include methods, acceptance criteria and, as \n",
      "appropriate, statistical techniques with rationale for sample size. \n",
      "© ISO\n",
      "\n",
      "ponsible for the design and/or manufacture of that accessory is considered to be a manufacturer.\n",
      "[SOURCE: GHTF/SG1/N055:2009, 5.1] \n",
      "© ISO 2016 – All rights reserved  3\n",
      " ISO 13485:2016(E)\n",
      "3.11\n",
      "medical device\n",
      "instrument, apparatus, implement, machine, appliance, implant, reagent for in vitro  use, software, \n",
      "material or other similar or related article, intended by the manufacturer to be used, alone or in \n",
      "combination, for human beings, for one or more of the specific medical purpose(s) of:\n",
      "— diagnosis, prevention, monitoring, treatment or alleviation of disease;\n",
      "— diagnosis, monitoring, treatment, alleviation of or compensation for an injury;\n",
      "— investigation, replacement, modification, or support of the anatomy or of a physiological process;\n",
      "— supporting or sustaining life;\n",
      "— control of conception;\n",
      "— disinfection of medical devices;\n",
      "— providing information by means of in vitro  examination of specimens derived from the human body;\n",
      "and does not achieve its primary intended action by pharmacological, immunological or metabolic \n",
      "means, in or on the human body, but which may be assisted in its intended function by such means\n",
      "Note  1 to entry:  Products which may be considered to be medical devices in some jurisdictions but not in others \n",
      "include:\n",
      "—   disinfection substances;\n",
      "—   aids for persons with disabilities;\n",
      "—   devices incorporating animal and/or human tissues;\n",
      "—   devices for in vitro  fertilization or assisted reproduction technologies.\n",
      "[SOURCE: GHTF/SG1/N071:2012, 5.1]\n",
      "3.12\n",
      "medical device family\n",
      "group of medical devices manufactured by or for the same organization and having the same basic \n",
      "design and performance characteristics related to safety, intended use and function\n",
      "3.13\n",
      "performance evaluation\n",
      "assessment and analysis of data to establish or verify the ability of an in vitro  diagnostic medical device \n",
      "to achieve its intended use\n",
      "3.14\n",
      "post-market surveillance\n",
      "systematic process to collect and analyse experience gained from medical devices that have been\n",
      "\n",
      "\n"
     ]
    }
   ],
   "source": [
    "# To verify how the context looks\n",
    "\n",
    "print(context)"
   ]
  },
  {
   "cell_type": "code",
   "execution_count": 35,
   "metadata": {},
   "outputs": [],
   "source": [
    "# Prompt Designing \n",
    "\n",
    "def give_a_prompt_to_the_agent(query, context):\n",
    "  prompt = f\"\"\"\n",
    "  You are a consultor agent that answers questions using the text from the context below.\n",
    "  The question and the context is going to be shared with you, so you can answer the question based on the context.\n",
    "  If the context does not have enough information to answer the question properly, inform the user about the abscene of relevant  context as an answer\n",
    "\n",
    "  Question : {query}\n",
    "  \\n\n",
    "  Context : {context}\n",
    "  \\n\n",
    "  Answer :\n",
    "  \"\"\"\n",
    "  return prompt"
   ]
  },
  {
   "cell_type": "code",
   "execution_count": 36,
   "metadata": {},
   "outputs": [],
   "source": [
    "# Function to define the answer based on the prompt\n",
    "\n",
    "def generate_answer(prompt):\n",
    "  model = genai.GenerativeModel('gemini-1.5-flash-latest')\n",
    "  result = model.generate_content(prompt)\n",
    "  return result"
   ]
  },
  {
   "cell_type": "code",
   "execution_count": 40,
   "metadata": {},
   "outputs": [
    {
     "name": "stdout",
     "output_type": "stream",
     "text": [
      "\n",
      "  You are a consultor agent that answers questions using the text from the context below.\n",
      "  The question and the context is going to be shared with you, so you can answer the question based on the context.\n",
      "  If the context does not have enough information to answer the question properly, inform the user about the abscene of relevant  context as an answer\n",
      "\n",
      "  Question : How to develop a design validation for medical devices\n",
      "  \n",
      "\n",
      "  Context : ication or intended use.\n",
      "The organization shall document validation plans that include methods, acceptance criteria and, as \n",
      "appropriate, statistical techniques with rationale for sample size. \n",
      "© ISO 2016 – All rights reserved  15\n",
      " ISO 13485:2016(E)\n",
      "Design validation shall be conducted on representative product. Representative product includes \n",
      "initial production units, batches or their equivalents. The rationale for the choice of product used for \n",
      "validation shall be recorded (see 4.2.5 ).\n",
      "As part of design and development validation, the organization shall perform clinical evaluations or \n",
      "performance evaluations of the medical device in accordance with applicable regulatory requirements. \n",
      "A medical device used for clinical evaluation or performance evaluation is not considered to be released \n",
      "for use to the customer.\n",
      "If the intended use requires that the medical device be connected to, or have an interface with, other \n",
      "medical device(s), validation shall include confirmation that the requirements for the specified \n",
      "application or intended use have been met when so connected or interfaced.\n",
      "Validation shall be completed prior to release for use of the product to the customer.\n",
      "Records of the results and conclusion of validation and necessary actions shall be maintained (see 4.2.4  \n",
      "and 4.2.5 ).\n",
      "7.3.8  Design and development transfer\n",
      "The organization shall document procedures for transfer of design and development outputs to \n",
      "manufacturing. These procedures shall ensure that design and development outputs are verified \n",
      "as suitable for manufacturing before becoming final production specifications and that production \n",
      "capability can meet product requirements.\n",
      "Results and conclusions of the transfer shall be recorded (see 4.2.5 ).\n",
      "7.3.9  Control of design and development changes\n",
      "The organization shall document procedures to control design and development changes. The \n",
      "organization shall determine the significance of the change to function, performance, usability, safety\n",
      "\n",
      "elopment outputs shall be maintained (see 4.2.5 ).\n",
      "7.3.5  Design and development review\n",
      "At suitable stages, systematic reviews of design and development shall be performed in accordance \n",
      "with planned and documented arrangements to:\n",
      "a) evaluate the ability of the results of design and development to meet requirements;\n",
      "b) identify and propose necessary actions.\n",
      "Participants in such reviews shall include representatives of functions concerned with the design and \n",
      "development stage being reviewed, as well as other specialist personnel.\n",
      "Records of the results of the reviews and any necessary actions shall be maintained and include the \n",
      "identification of the design under review, the participants involved and the date of the review (see 4.2.5 ).\n",
      "7.3.6\t Design \tand\tdevelopment \tverification\n",
      "Design and development verification shall be performed in accordance with planned and documented \n",
      "arrangements to ensure that the design and development outputs have met the design and development \n",
      "input requirements.\n",
      "The organization shall document verification plans that include methods, acceptance criteria and, as \n",
      "appropriate, statistical techniques with rationale for sample size.\n",
      "If the intended use requires that the medical device be connected to, or have an interface with, other \n",
      "medical device(s), verification shall include confirmation that the design outputs meet design inputs \n",
      "when so connected or interfaced.\n",
      "Records of the results and conclusions of the verification and necessary actions shall be maintained \n",
      "(see 4.2.4  and 4.2.5 ).\n",
      "7.3.7  Design and development validation\n",
      "Design and development validation shall be performed in accordance with planned and documented \n",
      "arrangements to ensure that the resulting product is capable of meeting the requirements for the \n",
      "specified application or intended use.\n",
      "The organization shall document validation plans that include methods, acceptance criteria and, as \n",
      "appropriate, statistical techniques with rationale for sample size. \n",
      "© ISO\n",
      "\n",
      "ponsible for the design and/or manufacture of that accessory is considered to be a manufacturer.\n",
      "[SOURCE: GHTF/SG1/N055:2009, 5.1] \n",
      "© ISO 2016 – All rights reserved  3\n",
      " ISO 13485:2016(E)\n",
      "3.11\n",
      "medical device\n",
      "instrument, apparatus, implement, machine, appliance, implant, reagent for in vitro  use, software, \n",
      "material or other similar or related article, intended by the manufacturer to be used, alone or in \n",
      "combination, for human beings, for one or more of the specific medical purpose(s) of:\n",
      "— diagnosis, prevention, monitoring, treatment or alleviation of disease;\n",
      "— diagnosis, monitoring, treatment, alleviation of or compensation for an injury;\n",
      "— investigation, replacement, modification, or support of the anatomy or of a physiological process;\n",
      "— supporting or sustaining life;\n",
      "— control of conception;\n",
      "— disinfection of medical devices;\n",
      "— providing information by means of in vitro  examination of specimens derived from the human body;\n",
      "and does not achieve its primary intended action by pharmacological, immunological or metabolic \n",
      "means, in or on the human body, but which may be assisted in its intended function by such means\n",
      "Note  1 to entry:  Products which may be considered to be medical devices in some jurisdictions but not in others \n",
      "include:\n",
      "—   disinfection substances;\n",
      "—   aids for persons with disabilities;\n",
      "—   devices incorporating animal and/or human tissues;\n",
      "—   devices for in vitro  fertilization or assisted reproduction technologies.\n",
      "[SOURCE: GHTF/SG1/N071:2012, 5.1]\n",
      "3.12\n",
      "medical device family\n",
      "group of medical devices manufactured by or for the same organization and having the same basic \n",
      "design and performance characteristics related to safety, intended use and function\n",
      "3.13\n",
      "performance evaluation\n",
      "assessment and analysis of data to establish or verify the ability of an in vitro  diagnostic medical device \n",
      "to achieve its intended use\n",
      "3.14\n",
      "post-market surveillance\n",
      "systematic process to collect and analyse experience gained from medical devices that have been\n",
      "\n",
      "\n",
      "  \n",
      "\n",
      "  Answer :\n",
      "  \n"
     ]
    }
   ],
   "source": [
    "# Prompt\n",
    "\n",
    "\n",
    "prompt = give_a_prompt_to_the_agent(query=\"How to develop a design validation for medical devices\", context=context)\n",
    "\n",
    "print(prompt)"
   ]
  },
  {
   "cell_type": "code",
   "execution_count": 38,
   "metadata": {},
   "outputs": [
    {
     "name": "stdout",
     "output_type": "stream",
     "text": [
      "Based on the provided text, design and development validation should be performed according to planned and documented arrangements to ensure the resulting product meets requirements for its intended use.  The organization must document validation plans, including methods, acceptance criteria, and (where appropriate) statistical techniques with rationale for sample size.  Validation should be conducted on representative products (initial production units, batches, or equivalents), and the rationale for product selection should be recorded.  Validation must be completed before the product is released to the customer.  Results and conclusions, along with any necessary actions, must be documented.  If the device interfaces with other medical devices, validation must confirm that requirements are met when connected.\n",
      "\n"
     ]
    }
   ],
   "source": [
    "answer = generate_answer(prompt)\n",
    "print(answer.text)\n"
   ]
  },
  {
   "cell_type": "markdown",
   "metadata": {},
   "source": [
    "Final Conclusions of the Model\n",
    "\n",
    "- Allows uploading a .pdf file\n",
    "- The .pdf texts were divided into chunks suitable for the database\n",
    "- The chunks are loaded into the ChromaDB vector database\n",
    "- Understands the general context of a question\n",
    "- Able to respond based on the context and the question\n",
    "- The model answers simple questions such as: How to develop a design validation for medical devices\n",
    "\n",
    "\n",
    "Improvements\n",
    "- Improve the function to better clean up symbols and special characters that we are not interested in.\n",
    "- Improve the division of the chunks. Where the cuts are being made\n",
    "- The answer is not especially accurate\n",
    "- It is not able to answer complex questions sucha as: "
   ]
  }
 ],
 "metadata": {
  "kernelspec": {
   "display_name": "Python 3",
   "language": "python",
   "name": "python3"
  },
  "language_info": {
   "codemirror_mode": {
    "name": "ipython",
    "version": 3
   },
   "file_extension": ".py",
   "mimetype": "text/x-python",
   "name": "python",
   "nbconvert_exporter": "python",
   "pygments_lexer": "ipython3",
   "version": "3.13.1"
  }
 },
 "nbformat": 4,
 "nbformat_minor": 2
}
